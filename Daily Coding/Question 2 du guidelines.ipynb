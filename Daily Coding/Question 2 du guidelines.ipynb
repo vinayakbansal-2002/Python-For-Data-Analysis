{
 "cells": [
  {
   "cell_type": "markdown",
   "id": "138fb84c",
   "metadata": {},
   "source": [
    "2. Write programs in Python using NumPy library to do the following:\n",
    "\n",
    "a. Compute the mean, standard deviation, and variance of a two dimensional random integer array\n",
    "along the second axis.\n",
    "\n",
    "b. Get the indices of the sorted elements of a given array.\n",
    "a. B = [56, 48, 22, 41, 78, 91, 24, 46, 8, 33]\n",
    "\n",
    "c. Create a 2-dimensional array of size m x n integer elements, also print the shape, type and data\n",
    "type of the array and then reshape it into nx m array, n and m are user inputs given at the run time.\n",
    "\n",
    "d. Test whether the elements of a given array are zero, non-zero and NaN. Record the indices of\n",
    "these elements in three separate arrays."
   ]
  },
  {
   "cell_type": "markdown",
   "id": "853a4f0d",
   "metadata": {},
   "source": [
    "### A"
   ]
  },
  {
   "cell_type": "code",
   "execution_count": 1,
   "id": "512af735",
   "metadata": {},
   "outputs": [],
   "source": [
    "import numpy as np"
   ]
  },
  {
   "cell_type": "code",
   "execution_count": 2,
   "id": "a1f90bc4",
   "metadata": {},
   "outputs": [],
   "source": [
    "arr=np.random.randn(4,4)"
   ]
  },
  {
   "cell_type": "code",
   "execution_count": 3,
   "id": "416d98eb",
   "metadata": {},
   "outputs": [
    {
     "data": {
      "text/plain": [
       "array([[ 1.3037361 ,  0.48266485, -0.07207877,  1.03800787],\n",
       "       [-0.48312554, -0.47157762,  1.36407199, -1.44946369],\n",
       "       [ 0.78236873, -0.28954601,  2.03113814, -0.2516024 ],\n",
       "       [-1.73652454, -0.23447826, -0.44766844, -1.04294934]])"
      ]
     },
     "execution_count": 3,
     "metadata": {},
     "output_type": "execute_result"
    }
   ],
   "source": [
    "arr"
   ]
  },
  {
   "cell_type": "markdown",
   "id": "29321aca",
   "metadata": {},
   "source": [
    "#### mean on second axis"
   ]
  },
  {
   "cell_type": "code",
   "execution_count": 4,
   "id": "9149972b",
   "metadata": {},
   "outputs": [
    {
     "data": {
      "text/plain": [
       "array([ 0.68808252, -0.26002372,  0.56808962, -0.86540514])"
      ]
     },
     "execution_count": 4,
     "metadata": {},
     "output_type": "execute_result"
    }
   ],
   "source": [
    "np.mean(arr,axis=1)"
   ]
  },
  {
   "cell_type": "markdown",
   "id": "d1f8ac10",
   "metadata": {},
   "source": [
    "#### std on second axis"
   ]
  },
  {
   "cell_type": "code",
   "execution_count": 5,
   "id": "d03f92c9",
   "metadata": {},
   "outputs": [
    {
     "data": {
      "text/plain": [
       "array([0.5295089 , 1.01820723, 0.94787399, 0.58372588])"
      ]
     },
     "execution_count": 5,
     "metadata": {},
     "output_type": "execute_result"
    }
   ],
   "source": [
    "np.std(arr,axis=1)"
   ]
  },
  {
   "cell_type": "markdown",
   "id": "523167c7",
   "metadata": {},
   "source": [
    "#### var on second axis"
   ]
  },
  {
   "cell_type": "code",
   "execution_count": 6,
   "id": "e3ac194a",
   "metadata": {},
   "outputs": [
    {
     "data": {
      "text/plain": [
       "array([0.28037967, 1.03674595, 0.8984651 , 0.34073591])"
      ]
     },
     "execution_count": 6,
     "metadata": {},
     "output_type": "execute_result"
    }
   ],
   "source": [
    "np.var(arr, axis=1)"
   ]
  },
  {
   "cell_type": "markdown",
   "id": "aa6fa929",
   "metadata": {},
   "source": [
    "### B"
   ]
  },
  {
   "cell_type": "markdown",
   "id": "d37f2992",
   "metadata": {},
   "source": [
    "b. Get the indices of the sorted elements of a given array. a. B = [56, 48, 22, 41, 78, 91, 24, 46, 8, 33]"
   ]
  },
  {
   "cell_type": "code",
   "execution_count": 7,
   "id": "f3be7ace",
   "metadata": {},
   "outputs": [],
   "source": [
    "B = [56, 48, 22, 41, 78, 91, 24, 46, 8, 33]"
   ]
  },
  {
   "cell_type": "code",
   "execution_count": 8,
   "id": "18d15c06",
   "metadata": {},
   "outputs": [
    {
     "data": {
      "text/plain": [
       "array([8, 2, 6, 9, 3, 7, 1, 0, 4, 5], dtype=int64)"
      ]
     },
     "execution_count": 8,
     "metadata": {},
     "output_type": "execute_result"
    }
   ],
   "source": [
    "np.argsort(B)"
   ]
  },
  {
   "cell_type": "code",
   "execution_count": 9,
   "id": "7c81033c",
   "metadata": {},
   "outputs": [
    {
     "data": {
      "text/plain": [
       "[56, 48, 22, 41, 78, 91, 24, 46, 8, 33]"
      ]
     },
     "execution_count": 9,
     "metadata": {},
     "output_type": "execute_result"
    }
   ],
   "source": [
    "B"
   ]
  },
  {
   "cell_type": "code",
   "execution_count": 10,
   "id": "2a51211f",
   "metadata": {},
   "outputs": [],
   "source": [
    "#[56, 48, 22, 41, 78, 91, 24, 46, 8, 33]\n",
    "# 0    1   2   3   4   5   6   7  8  9\n",
    "#we want\n",
    "#[8,   2,  6,  9,  3,  7,  1,  0, 4, 5]\n",
    "#[8,   22 ,24, 33 ,41, 46, 48, 56,78,91]"
   ]
  },
  {
   "cell_type": "markdown",
   "id": "5e13eea1",
   "metadata": {},
   "source": [
    "### C"
   ]
  },
  {
   "cell_type": "markdown",
   "id": "94cff657",
   "metadata": {},
   "source": [
    "c. Create a 2-dimensional array of size m x n integer elements, also print the shape, type and data type of the array and then reshape it into nx m array, n and m are user inputs given at the run time."
   ]
  },
  {
   "cell_type": "code",
   "execution_count": 11,
   "id": "fa0a9180",
   "metadata": {},
   "outputs": [],
   "source": [
    "arr2=np.random.randint(1,100,size=(3,4))"
   ]
  },
  {
   "cell_type": "code",
   "execution_count": 12,
   "id": "a66e581a",
   "metadata": {},
   "outputs": [
    {
     "data": {
      "text/plain": [
       "array([[38, 12,  1, 99],\n",
       "       [36,  4, 38,  2],\n",
       "       [89, 85, 22, 88]])"
      ]
     },
     "execution_count": 12,
     "metadata": {},
     "output_type": "execute_result"
    }
   ],
   "source": [
    "arr2"
   ]
  },
  {
   "cell_type": "code",
   "execution_count": 13,
   "id": "c9df6b31",
   "metadata": {},
   "outputs": [
    {
     "data": {
      "text/plain": [
       "(3, 4)"
      ]
     },
     "execution_count": 13,
     "metadata": {},
     "output_type": "execute_result"
    }
   ],
   "source": [
    "arr2.shape"
   ]
  },
  {
   "cell_type": "code",
   "execution_count": 14,
   "id": "e72137b0",
   "metadata": {},
   "outputs": [
    {
     "data": {
      "text/plain": [
       "dtype('int32')"
      ]
     },
     "execution_count": 14,
     "metadata": {},
     "output_type": "execute_result"
    }
   ],
   "source": [
    "arr2.dtype"
   ]
  },
  {
   "cell_type": "code",
   "execution_count": 15,
   "id": "7103389b",
   "metadata": {},
   "outputs": [
    {
     "data": {
      "text/plain": [
       "numpy.ndarray"
      ]
     },
     "execution_count": 15,
     "metadata": {},
     "output_type": "execute_result"
    }
   ],
   "source": [
    "type(arr2)"
   ]
  },
  {
   "cell_type": "code",
   "execution_count": 16,
   "id": "ff83ea01",
   "metadata": {},
   "outputs": [
    {
     "name": "stdout",
     "output_type": "stream",
     "text": [
      "Enter value of n 4\n",
      "Enter value of m 4\n",
      "product must be 12\n",
      "Enter value of n 4\n",
      "Enter value of m 3\n"
     ]
    }
   ],
   "source": [
    "n=int(input(\"Enter value of n \"))\n",
    "m=int(input(\"Enter value of m \"))\n",
    "while n*m !=arr2.shape[0]*arr2.shape[1]:\n",
    "    print(\"product must be\",arr2.shape[0]*arr2.shape[1])\n",
    "    n=int(input(\"Enter value of n \"))\n",
    "    m=int(input(\"Enter value of m \"))"
   ]
  },
  {
   "cell_type": "code",
   "execution_count": 17,
   "id": "74b5acfb",
   "metadata": {},
   "outputs": [],
   "source": [
    "arr2=arr2.reshape(n,m)"
   ]
  },
  {
   "cell_type": "code",
   "execution_count": 18,
   "id": "915e1ba2",
   "metadata": {},
   "outputs": [
    {
     "data": {
      "text/plain": [
       "array([[38, 12,  1],\n",
       "       [99, 36,  4],\n",
       "       [38,  2, 89],\n",
       "       [85, 22, 88]])"
      ]
     },
     "execution_count": 18,
     "metadata": {},
     "output_type": "execute_result"
    }
   ],
   "source": [
    "arr2"
   ]
  },
  {
   "cell_type": "markdown",
   "id": "a47b9801",
   "metadata": {},
   "source": [
    "### D"
   ]
  },
  {
   "cell_type": "markdown",
   "id": "68bfe9df",
   "metadata": {},
   "source": [
    "d. Test whether the elements of a given array are zero, non-zero and NaN. Record the indices of these elements in three separate arrays."
   ]
  },
  {
   "cell_type": "code",
   "execution_count": 19,
   "id": "97ee4ded",
   "metadata": {},
   "outputs": [],
   "source": [
    "arr3=np.array([-3,-9,0,1,np.nan,1,0,0,np.nan])"
   ]
  },
  {
   "cell_type": "code",
   "execution_count": 20,
   "id": "a3377492",
   "metadata": {},
   "outputs": [
    {
     "data": {
      "text/plain": [
       "array([-3., -9.,  0.,  1., nan,  1.,  0.,  0., nan])"
      ]
     },
     "execution_count": 20,
     "metadata": {},
     "output_type": "execute_result"
    }
   ],
   "source": [
    "arr3"
   ]
  },
  {
   "cell_type": "code",
   "execution_count": 21,
   "id": "0f638bc1",
   "metadata": {},
   "outputs": [
    {
     "data": {
      "text/plain": [
       "(array([2, 6, 7], dtype=int64),)"
      ]
     },
     "execution_count": 21,
     "metadata": {},
     "output_type": "execute_result"
    }
   ],
   "source": [
    "np.where(arr3==0)"
   ]
  },
  {
   "cell_type": "code",
   "execution_count": 22,
   "id": "c03bf93c",
   "metadata": {},
   "outputs": [
    {
     "data": {
      "text/plain": [
       "(array([0, 1, 3, 4, 5, 8], dtype=int64),)"
      ]
     },
     "execution_count": 22,
     "metadata": {},
     "output_type": "execute_result"
    }
   ],
   "source": [
    "np.where(arr3!=0)# nan is consider as no zero"
   ]
  },
  {
   "cell_type": "code",
   "execution_count": 23,
   "id": "1e78c4f1",
   "metadata": {},
   "outputs": [
    {
     "data": {
      "text/plain": [
       "(array([4, 8], dtype=int64),)"
      ]
     },
     "execution_count": 23,
     "metadata": {},
     "output_type": "execute_result"
    }
   ],
   "source": [
    "np.where(np.isnan(arr3))"
   ]
  }
 ],
 "metadata": {
  "kernelspec": {
   "display_name": "Python 3 (ipykernel)",
   "language": "python",
   "name": "python3"
  },
  "language_info": {
   "codemirror_mode": {
    "name": "ipython",
    "version": 3
   },
   "file_extension": ".py",
   "mimetype": "text/x-python",
   "name": "python",
   "nbconvert_exporter": "python",
   "pygments_lexer": "ipython3",
   "version": "3.9.12"
  }
 },
 "nbformat": 4,
 "nbformat_minor": 5
}
