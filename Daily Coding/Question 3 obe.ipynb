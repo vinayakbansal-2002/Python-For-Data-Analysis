{
 "cells": [
  {
   "cell_type": "markdown",
   "id": "5561abf6",
   "metadata": {},
   "source": [
    "a) Given the following commands to create series sr\n",
    "\n",
    "import numpy as np\n",
    "import pandas as pd\n",
    "sr = pd.Series([‘Madhuri’,’AjaySh@rma’, ‘R@ni’, ‘Radha’,np.nan,’Smita’,’3567’])\n",
    "Write separate commands to compute the length of each string in the\n",
    "series, replace @ with ‘a’ in all strings in the series, count the\n",
    "occurrences of ‘a’ in each string, change the case of all letters, find all\n",
    "strings with pattern ‘adh’ in them and find all strings that end with\n",
    "letter ‘i’.\n",
    "\n",
    "\n",
    "b) Create a DataFrame of 7 rows and 7 columns containing random\n",
    "integers in the range of 1 to 100. Compute the correlation of each row\n",
    "with the preceding row.\n",
    "\n",
    "\n",
    "c) Write Numpy code to generate a random list of 100 integers (range of\n",
    "55 to 150) and identify the index of the largest element and smallest\n",
    "element. Change this list into a 10 x 10 matrix and replace all diagonal\n",
    "elements with 1."
   ]
  },
  {
   "cell_type": "markdown",
   "id": "b751434b",
   "metadata": {},
   "source": [
    "### a)\n",
    "Given the following commands to create series sr\n",
    "\n",
    "import numpy as np import pandas as pd\n",
    "sr = pd.Series([‘Madhuri’,’AjaySh@rma’, ‘R@ni’, ‘Radha’,np.nan,’Smita’,’3567’]) \n",
    "\n",
    "Write separate commands to compute the length of each string in the series, replace @ with ‘a’ in all strings in the series, count the occurrences of ‘a’ in each string, change the case of all letters, find all strings with pattern ‘adh’ in them and find all strings that end with letter ‘i’."
   ]
  },
  {
   "cell_type": "code",
   "execution_count": 2,
   "id": "eb57d37d",
   "metadata": {},
   "outputs": [],
   "source": [
    "import numpy as np\n",
    "import pandas as pd"
   ]
  },
  {
   "cell_type": "code",
   "execution_count": 5,
   "id": "2fd7edf9",
   "metadata": {},
   "outputs": [],
   "source": [
    "sr = pd.Series(['Madhuri','AjaySh@rma', 'R@ni', 'Radha',np.nan,'Smita','3567'])"
   ]
  },
  {
   "cell_type": "markdown",
   "id": "9ce77fdf",
   "metadata": {},
   "source": [
    "### length of strings"
   ]
  },
  {
   "cell_type": "code",
   "execution_count": 9,
   "id": "d23d73f7",
   "metadata": {},
   "outputs": [
    {
     "name": "stdout",
     "output_type": "stream",
     "text": [
      "Madhuri      length is  7\n",
      "AjaySh@rma      length is  10\n",
      "R@ni      length is  4\n",
      "Radha      length is  5\n",
      "Smita      length is  5\n",
      "3567      length is  4\n"
     ]
    }
   ],
   "source": [
    "for i in sr:\n",
    "    if type(i)==str:\n",
    "        print(i,\"     length is \",len(i))"
   ]
  },
  {
   "cell_type": "markdown",
   "id": "bd3e589c",
   "metadata": {},
   "source": [
    "### replace @ with a"
   ]
  },
  {
   "cell_type": "code",
   "execution_count": 12,
   "id": "a36de6fb",
   "metadata": {},
   "outputs": [
    {
     "name": "stdout",
     "output_type": "stream",
     "text": [
      "Madhuri\n",
      "AjaySharma\n",
      "Rani\n",
      "Radha\n",
      "Smita\n",
      "3567\n"
     ]
    }
   ],
   "source": [
    "for i in sr:\n",
    "    if type(i)==str:\n",
    "        i=i.replace(\"@\",'a')\n",
    "        print(i)"
   ]
  },
  {
   "cell_type": "markdown",
   "id": "a1b09817",
   "metadata": {},
   "source": [
    "### count a in strings"
   ]
  },
  {
   "cell_type": "code",
   "execution_count": 15,
   "id": "8773847c",
   "metadata": {},
   "outputs": [
    {
     "name": "stdout",
     "output_type": "stream",
     "text": [
      "a count in Madhuri 1\n",
      "a count in AjaySh@rma 2\n",
      "a count in R@ni 0\n",
      "a count in Radha 2\n",
      "a count in Smita 1\n",
      "a count in 3567 0\n"
     ]
    }
   ],
   "source": [
    "for i in sr:\n",
    "    if type(i)==str:\n",
    "        print('a count in',i, i.count('a'))"
   ]
  },
  {
   "cell_type": "markdown",
   "id": "053da336",
   "metadata": {},
   "source": [
    "### change case\n"
   ]
  },
  {
   "cell_type": "code",
   "execution_count": 19,
   "id": "01aef672",
   "metadata": {},
   "outputs": [
    {
     "name": "stdout",
     "output_type": "stream",
     "text": [
      "mADHURI\n",
      "aJAYsHRMA\n",
      "rNI\n",
      "rADHA\n",
      "sMITA\n",
      "\n"
     ]
    }
   ],
   "source": [
    "for i in sr:\n",
    "    if type(i)==str:\n",
    "        x=\"\"\n",
    "        for j in i:\n",
    "            if j.islower():\n",
    "                x=x+j.upper()\n",
    "            elif j.isupper():\n",
    "                x=x+j.lower()\n",
    "        print(x)"
   ]
  },
  {
   "cell_type": "markdown",
   "id": "301f0359",
   "metadata": {},
   "source": [
    "### find all strings with pattern ‘adh’ in them"
   ]
  },
  {
   "cell_type": "code",
   "execution_count": 20,
   "id": "58c0e307",
   "metadata": {},
   "outputs": [
    {
     "name": "stdout",
     "output_type": "stream",
     "text": [
      "Madhuri\n",
      "Radha\n"
     ]
    }
   ],
   "source": [
    "for i in sr:\n",
    "    if type(i)==str:\n",
    "        if i.find('adh')!=-1:\n",
    "            print(i)"
   ]
  },
  {
   "cell_type": "markdown",
   "id": "b8c4248a",
   "metadata": {},
   "source": [
    "### find all strings that end with letter ‘i’."
   ]
  },
  {
   "cell_type": "code",
   "execution_count": 23,
   "id": "1c5f3fac",
   "metadata": {},
   "outputs": [
    {
     "name": "stdout",
     "output_type": "stream",
     "text": [
      "Madhuri\n",
      "R@ni\n"
     ]
    }
   ],
   "source": [
    "for i in sr:\n",
    "    if type(i)==str:\n",
    "        if i[-1]=='i':\n",
    "            print(i)"
   ]
  },
  {
   "cell_type": "markdown",
   "id": "4089e6be",
   "metadata": {},
   "source": [
    "## b\n",
    "b) Create a DataFrame of 7 rows and 7 columns containing random integers in the range of 1 to 100. Compute the correlation of each row with the preceding row."
   ]
  },
  {
   "cell_type": "code",
   "execution_count": 31,
   "id": "eeaff9cc",
   "metadata": {},
   "outputs": [
    {
     "data": {
      "text/html": [
       "<div>\n",
       "<style scoped>\n",
       "    .dataframe tbody tr th:only-of-type {\n",
       "        vertical-align: middle;\n",
       "    }\n",
       "\n",
       "    .dataframe tbody tr th {\n",
       "        vertical-align: top;\n",
       "    }\n",
       "\n",
       "    .dataframe thead th {\n",
       "        text-align: right;\n",
       "    }\n",
       "</style>\n",
       "<table border=\"1\" class=\"dataframe\">\n",
       "  <thead>\n",
       "    <tr style=\"text-align: right;\">\n",
       "      <th></th>\n",
       "      <th>0</th>\n",
       "      <th>1</th>\n",
       "      <th>2</th>\n",
       "      <th>3</th>\n",
       "      <th>4</th>\n",
       "      <th>5</th>\n",
       "      <th>6</th>\n",
       "    </tr>\n",
       "  </thead>\n",
       "  <tbody>\n",
       "    <tr>\n",
       "      <th>0</th>\n",
       "      <td>92</td>\n",
       "      <td>26</td>\n",
       "      <td>31</td>\n",
       "      <td>17</td>\n",
       "      <td>81</td>\n",
       "      <td>92</td>\n",
       "      <td>50</td>\n",
       "    </tr>\n",
       "    <tr>\n",
       "      <th>1</th>\n",
       "      <td>49</td>\n",
       "      <td>47</td>\n",
       "      <td>60</td>\n",
       "      <td>99</td>\n",
       "      <td>81</td>\n",
       "      <td>94</td>\n",
       "      <td>12</td>\n",
       "    </tr>\n",
       "    <tr>\n",
       "      <th>2</th>\n",
       "      <td>44</td>\n",
       "      <td>35</td>\n",
       "      <td>47</td>\n",
       "      <td>36</td>\n",
       "      <td>70</td>\n",
       "      <td>44</td>\n",
       "      <td>83</td>\n",
       "    </tr>\n",
       "    <tr>\n",
       "      <th>3</th>\n",
       "      <td>50</td>\n",
       "      <td>48</td>\n",
       "      <td>5</td>\n",
       "      <td>81</td>\n",
       "      <td>95</td>\n",
       "      <td>38</td>\n",
       "      <td>20</td>\n",
       "    </tr>\n",
       "    <tr>\n",
       "      <th>4</th>\n",
       "      <td>0</td>\n",
       "      <td>17</td>\n",
       "      <td>61</td>\n",
       "      <td>32</td>\n",
       "      <td>12</td>\n",
       "      <td>13</td>\n",
       "      <td>13</td>\n",
       "    </tr>\n",
       "    <tr>\n",
       "      <th>5</th>\n",
       "      <td>84</td>\n",
       "      <td>46</td>\n",
       "      <td>52</td>\n",
       "      <td>3</td>\n",
       "      <td>51</td>\n",
       "      <td>67</td>\n",
       "      <td>38</td>\n",
       "    </tr>\n",
       "    <tr>\n",
       "      <th>6</th>\n",
       "      <td>9</td>\n",
       "      <td>69</td>\n",
       "      <td>86</td>\n",
       "      <td>89</td>\n",
       "      <td>85</td>\n",
       "      <td>73</td>\n",
       "      <td>40</td>\n",
       "    </tr>\n",
       "  </tbody>\n",
       "</table>\n",
       "</div>"
      ],
      "text/plain": [
       "    0   1   2   3   4   5   6\n",
       "0  92  26  31  17  81  92  50\n",
       "1  49  47  60  99  81  94  12\n",
       "2  44  35  47  36  70  44  83\n",
       "3  50  48   5  81  95  38  20\n",
       "4   0  17  61  32  12  13  13\n",
       "5  84  46  52   3  51  67  38\n",
       "6   9  69  86  89  85  73  40"
      ]
     },
     "execution_count": 31,
     "metadata": {},
     "output_type": "execute_result"
    }
   ],
   "source": [
    "obj=pd.DataFrame(np.random.randint(101,size=49).reshape(7,7))\n",
    "obj"
   ]
  },
  {
   "cell_type": "code",
   "execution_count": 33,
   "id": "807595fc",
   "metadata": {},
   "outputs": [
    {
     "name": "stdout",
     "output_type": "stream",
     "text": [
      "-0.10716687724211658\n",
      "0.30885058147747657\n",
      "0.15168012625082689\n",
      "0.540794380786402\n",
      "0.5864193410074704\n",
      "0.08413476006283999\n"
     ]
    }
   ],
   "source": [
    "for i in range(1,7):\n",
    "    print(obj[i].corr(obj[i-1]))"
   ]
  },
  {
   "cell_type": "markdown",
   "id": "f0d0377a",
   "metadata": {},
   "source": [
    "### c)\n",
    "Write Numpy code to generate a random list of 100 integers (range of 55 to 150) and identify the index of the largest element and smallest element. Change this list into a 10 x 10 matrix and replace all diagonal elements with 1."
   ]
  },
  {
   "cell_type": "code",
   "execution_count": 54,
   "id": "4addd25c",
   "metadata": {},
   "outputs": [],
   "source": [
    "arr=np.random.randint(low=55,high=151,size=100)"
   ]
  },
  {
   "cell_type": "code",
   "execution_count": 55,
   "id": "f11cf06c",
   "metadata": {},
   "outputs": [
    {
     "data": {
      "text/plain": [
       "(array([76, 97], dtype=int64),)"
      ]
     },
     "execution_count": 55,
     "metadata": {},
     "output_type": "execute_result"
    }
   ],
   "source": [
    "np.where(arr==arr.min())"
   ]
  },
  {
   "cell_type": "code",
   "execution_count": 56,
   "id": "179bca42",
   "metadata": {},
   "outputs": [
    {
     "data": {
      "text/plain": [
       "(array([84], dtype=int64),)"
      ]
     },
     "execution_count": 56,
     "metadata": {},
     "output_type": "execute_result"
    }
   ],
   "source": [
    "np.where(arr==arr.max())"
   ]
  },
  {
   "cell_type": "code",
   "execution_count": 58,
   "id": "6605348b",
   "metadata": {},
   "outputs": [
    {
     "data": {
      "text/plain": [
       "array([[122,  61,  91, 138,  66,  96, 148, 145,  63,  60],\n",
       "       [ 97, 121,  97,  87, 148, 123, 145,  64,  81, 107],\n",
       "       [ 70, 119,  93, 124, 146, 119,  92, 145,  60,  94],\n",
       "       [116,  77,  97, 136, 122, 129,  67, 118, 102,  84],\n",
       "       [123, 120,  77,  91,  91, 120,  75, 146,  58,  92],\n",
       "       [ 97, 127, 116, 118, 145, 143, 115,  94, 133,  68],\n",
       "       [ 91,  67, 127, 147, 121, 136,  75,  72,  87,  93],\n",
       "       [ 78, 107,  91,  96, 128,  75,  56,  73, 148,  90],\n",
       "       [119,  96, 138, 117, 150,  70,  58, 133, 136, 129],\n",
       "       [104,  90, 130,  61,  58,  76,  95,  56, 141, 129]])"
      ]
     },
     "execution_count": 58,
     "metadata": {},
     "output_type": "execute_result"
    }
   ],
   "source": [
    "arr2=arr.reshape(10,10)\n",
    "arr2"
   ]
  },
  {
   "cell_type": "code",
   "execution_count": 83,
   "id": "19445980",
   "metadata": {},
   "outputs": [
    {
     "data": {
      "text/plain": [
       "array([[  1,  61,  91, 138,  66,  96, 148, 145,  63,   1],\n",
       "       [ 97,   1,  97,  87, 148, 123, 145,  64,   1, 107],\n",
       "       [ 70, 119,   1, 124, 146, 119,  92,   1,  60,  94],\n",
       "       [116,  77,  97,   1, 122, 129,   1, 118, 102,  84],\n",
       "       [123, 120,  77,  91,   1,   1,  75, 146,  58,  92],\n",
       "       [ 97, 127, 116, 118,   1,   1, 115,  94, 133,  68],\n",
       "       [ 91,  67, 127,   1, 121, 136,   1,  72,  87,  93],\n",
       "       [ 78, 107,   1,  96, 128,  75,  56,   1, 148,  90],\n",
       "       [119,   1, 138, 117, 150,  70,  58, 133,   1, 129],\n",
       "       [  1,  90, 130,  61,  58,  76,  95,  56, 141,   1]])"
      ]
     },
     "execution_count": 83,
     "metadata": {},
     "output_type": "execute_result"
    }
   ],
   "source": [
    "x=arr2.shape[0]-1\n",
    "y=0\n",
    "for i in range(arr2.shape[0]):\n",
    "    arr2[i][i]=1\n",
    "    arr2[x][y]=1\n",
    "    x=x-1\n",
    "    y=y+1\n",
    "    \n",
    "arr2\n",
    "    "
   ]
  },
  {
   "cell_type": "code",
   "execution_count": null,
   "id": "2febb65f",
   "metadata": {},
   "outputs": [],
   "source": []
  }
 ],
 "metadata": {
  "kernelspec": {
   "display_name": "Python 3 (ipykernel)",
   "language": "python",
   "name": "python3"
  },
  "language_info": {
   "codemirror_mode": {
    "name": "ipython",
    "version": 3
   },
   "file_extension": ".py",
   "mimetype": "text/x-python",
   "name": "python",
   "nbconvert_exporter": "python",
   "pygments_lexer": "ipython3",
   "version": "3.9.12"
  }
 },
 "nbformat": 4,
 "nbformat_minor": 5
}
