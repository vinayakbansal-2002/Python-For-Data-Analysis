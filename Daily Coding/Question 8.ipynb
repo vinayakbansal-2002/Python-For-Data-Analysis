{
 "cells": [
  {
   "cell_type": "raw",
   "id": "50f0e350",
   "metadata": {},
   "source": [
    "8. Consider the following data frame containing a family name, gender of the family member and her/his monthly income in each record.\n",
    "\n",
    "Name Gender MonthlyIncome (Rs.)\n",
    "Shah Male 114000.00\n",
    "Vats Male 65000.00\n",
    "Vats Female 43150.00\n",
    "Kumar Female 69500.00\n",
    "Vats Female 155000.00\n",
    "Kumar Male 103000.00\n",
    "Shah Male 55000.00\n",
    "Shah Female 112400.00\n",
    "Kumar Female 81030.00\n",
    "Vats Male 71900.00\n",
    "\n",
    "Write a program in Python using Pandas to perform the following:\n",
    "a. Calculate and display familywise gross monthly income.\n",
    "b. Calculate and display the member with the highest monthly income in a family.\n",
    "c. Calculate and display monthly income of all members with income greater than Rs. 60000.00.\n",
    "d. Calculate and display the average monthly income of the female members in the Shah family."
   ]
  },
  {
   "cell_type": "code",
   "execution_count": 1,
   "id": "a8e5afe1",
   "metadata": {},
   "outputs": [],
   "source": [
    "import pandas as pd"
   ]
  },
  {
   "cell_type": "code",
   "execution_count": 2,
   "id": "21629df0",
   "metadata": {},
   "outputs": [
    {
     "data": {
      "text/html": [
       "<div>\n",
       "<style scoped>\n",
       "    .dataframe tbody tr th:only-of-type {\n",
       "        vertical-align: middle;\n",
       "    }\n",
       "\n",
       "    .dataframe tbody tr th {\n",
       "        vertical-align: top;\n",
       "    }\n",
       "\n",
       "    .dataframe thead th {\n",
       "        text-align: right;\n",
       "    }\n",
       "</style>\n",
       "<table border=\"1\" class=\"dataframe\">\n",
       "  <thead>\n",
       "    <tr style=\"text-align: right;\">\n",
       "      <th></th>\n",
       "      <th>Name</th>\n",
       "      <th>Gender</th>\n",
       "      <th>MonthlyIncome(Rs.)</th>\n",
       "    </tr>\n",
       "  </thead>\n",
       "  <tbody>\n",
       "    <tr>\n",
       "      <th>0</th>\n",
       "      <td>Shah</td>\n",
       "      <td>Male</td>\n",
       "      <td>114000.0</td>\n",
       "    </tr>\n",
       "    <tr>\n",
       "      <th>1</th>\n",
       "      <td>Vats</td>\n",
       "      <td>Male</td>\n",
       "      <td>65000.0</td>\n",
       "    </tr>\n",
       "    <tr>\n",
       "      <th>2</th>\n",
       "      <td>Vats</td>\n",
       "      <td>Female</td>\n",
       "      <td>43150.0</td>\n",
       "    </tr>\n",
       "    <tr>\n",
       "      <th>3</th>\n",
       "      <td>Kumar</td>\n",
       "      <td>Female</td>\n",
       "      <td>69500.0</td>\n",
       "    </tr>\n",
       "    <tr>\n",
       "      <th>4</th>\n",
       "      <td>Vats</td>\n",
       "      <td>Female</td>\n",
       "      <td>155000.0</td>\n",
       "    </tr>\n",
       "    <tr>\n",
       "      <th>5</th>\n",
       "      <td>Kumar</td>\n",
       "      <td>Male</td>\n",
       "      <td>103000.0</td>\n",
       "    </tr>\n",
       "    <tr>\n",
       "      <th>6</th>\n",
       "      <td>Shah</td>\n",
       "      <td>Male</td>\n",
       "      <td>55000.0</td>\n",
       "    </tr>\n",
       "    <tr>\n",
       "      <th>7</th>\n",
       "      <td>Shah</td>\n",
       "      <td>Female</td>\n",
       "      <td>112400.0</td>\n",
       "    </tr>\n",
       "    <tr>\n",
       "      <th>8</th>\n",
       "      <td>Kumar</td>\n",
       "      <td>Female</td>\n",
       "      <td>81030.0</td>\n",
       "    </tr>\n",
       "    <tr>\n",
       "      <th>9</th>\n",
       "      <td>Vats</td>\n",
       "      <td>Male</td>\n",
       "      <td>71900.0</td>\n",
       "    </tr>\n",
       "  </tbody>\n",
       "</table>\n",
       "</div>"
      ],
      "text/plain": [
       "    Name  Gender  MonthlyIncome(Rs.)\n",
       "0   Shah    Male            114000.0\n",
       "1   Vats    Male             65000.0\n",
       "2   Vats  Female             43150.0\n",
       "3  Kumar  Female             69500.0\n",
       "4   Vats  Female            155000.0\n",
       "5  Kumar    Male            103000.0\n",
       "6   Shah    Male             55000.0\n",
       "7   Shah  Female            112400.0\n",
       "8  Kumar  Female             81030.0\n",
       "9   Vats    Male             71900.0"
      ]
     },
     "execution_count": 2,
     "metadata": {},
     "output_type": "execute_result"
    }
   ],
   "source": [
    "df=pd.read_csv('data8.csv')\n",
    "df"
   ]
  },
  {
   "cell_type": "code",
   "execution_count": 3,
   "id": "cf7c5e78",
   "metadata": {},
   "outputs": [],
   "source": [
    "grp=df.groupby('Name')"
   ]
  },
  {
   "cell_type": "markdown",
   "id": "aa1bf7ec",
   "metadata": {},
   "source": [
    "###  Calculate and display familywise gross monthly income."
   ]
  },
  {
   "cell_type": "code",
   "execution_count": 4,
   "id": "22b890c1",
   "metadata": {},
   "outputs": [
    {
     "data": {
      "text/html": [
       "<div>\n",
       "<style scoped>\n",
       "    .dataframe tbody tr th:only-of-type {\n",
       "        vertical-align: middle;\n",
       "    }\n",
       "\n",
       "    .dataframe tbody tr th {\n",
       "        vertical-align: top;\n",
       "    }\n",
       "\n",
       "    .dataframe thead th {\n",
       "        text-align: right;\n",
       "    }\n",
       "</style>\n",
       "<table border=\"1\" class=\"dataframe\">\n",
       "  <thead>\n",
       "    <tr style=\"text-align: right;\">\n",
       "      <th></th>\n",
       "      <th>MonthlyIncome(Rs.)</th>\n",
       "    </tr>\n",
       "    <tr>\n",
       "      <th>Name</th>\n",
       "      <th></th>\n",
       "    </tr>\n",
       "  </thead>\n",
       "  <tbody>\n",
       "    <tr>\n",
       "      <th>Kumar</th>\n",
       "      <td>253530.0</td>\n",
       "    </tr>\n",
       "    <tr>\n",
       "      <th>Shah</th>\n",
       "      <td>281400.0</td>\n",
       "    </tr>\n",
       "    <tr>\n",
       "      <th>Vats</th>\n",
       "      <td>335050.0</td>\n",
       "    </tr>\n",
       "  </tbody>\n",
       "</table>\n",
       "</div>"
      ],
      "text/plain": [
       "       MonthlyIncome(Rs.)\n",
       "Name                     \n",
       "Kumar            253530.0\n",
       "Shah             281400.0\n",
       "Vats             335050.0"
      ]
     },
     "execution_count": 4,
     "metadata": {},
     "output_type": "execute_result"
    }
   ],
   "source": [
    "grp.sum('MonthlyIncome(Rs.)')"
   ]
  },
  {
   "cell_type": "markdown",
   "id": "1b49c139",
   "metadata": {},
   "source": [
    "### Calculate and display the member with the highest monthly income in a family."
   ]
  },
  {
   "cell_type": "code",
   "execution_count": 35,
   "id": "b0f9d4ec",
   "metadata": {},
   "outputs": [
    {
     "name": "stdout",
     "output_type": "stream",
     "text": [
      "Kumar\n",
      "    Name Gender  MonthlyIncome(Rs.)\n",
      "5  Kumar   Male            103000.0\n",
      "Shah\n",
      "   Name Gender  MonthlyIncome(Rs.)\n",
      "0  Shah   Male            114000.0\n",
      "Vats\n",
      "   Name  Gender  MonthlyIncome(Rs.)\n",
      "4  Vats  Female            155000.0\n"
     ]
    }
   ],
   "source": [
    "\n",
    "\n",
    "for name,member in grp:\n",
    "    print(name)\n",
    "    print(member[member['MonthlyIncome(Rs.)']==member['MonthlyIncome(Rs.)'].max()])"
   ]
  },
  {
   "cell_type": "markdown",
   "id": "31f3bced",
   "metadata": {},
   "source": [
    "### Calculate and display monthly income of all members with income greater than Rs. 60000.00."
   ]
  },
  {
   "cell_type": "code",
   "execution_count": 23,
   "id": "3f969f87",
   "metadata": {},
   "outputs": [
    {
     "name": "stdout",
     "output_type": "stream",
     "text": [
      "Kumar\n",
      "    Name  Gender  MonthlyIncome(Rs.)\n",
      "3  Kumar  Female             69500.0\n",
      "5  Kumar    Male            103000.0\n",
      "8  Kumar  Female             81030.0\n",
      "Shah\n",
      "   Name  Gender  MonthlyIncome(Rs.)\n",
      "0  Shah    Male            114000.0\n",
      "7  Shah  Female            112400.0\n",
      "Vats\n",
      "   Name  Gender  MonthlyIncome(Rs.)\n",
      "1  Vats    Male             65000.0\n",
      "4  Vats  Female            155000.0\n",
      "9  Vats    Male             71900.0\n"
     ]
    }
   ],
   "source": [
    "for name,member in grp:\n",
    "    print(name)\n",
    "    print(member[member['MonthlyIncome(Rs.)']>60000])"
   ]
  },
  {
   "cell_type": "markdown",
   "id": "7a62dbbf",
   "metadata": {},
   "source": [
    "### Calculate and display the average monthly income of the female members in the Shah family."
   ]
  },
  {
   "cell_type": "code",
   "execution_count": 9,
   "id": "72b0a3fa",
   "metadata": {},
   "outputs": [
    {
     "name": "stderr",
     "output_type": "stream",
     "text": [
      "C:\\Users\\ADMIN\\AppData\\Local\\Temp\\ipykernel_9088\\1855634258.py:2: FutureWarning: Dropping of nuisance columns in DataFrame reductions (with 'numeric_only=None') is deprecated; in a future version this will raise TypeError.  Select only valid columns before calling the reduction.\n",
      "  s[s['Gender']==\"Female\"].mean()\n"
     ]
    },
    {
     "data": {
      "text/plain": [
       "MonthlyIncome(Rs.)    112400.0\n",
       "dtype: float64"
      ]
     },
     "execution_count": 9,
     "metadata": {},
     "output_type": "execute_result"
    }
   ],
   "source": [
    "s=grp.get_group('Shah')\n",
    "s[s['Gender']==\"Female\"].mean()"
   ]
  },
  {
   "cell_type": "code",
   "execution_count": null,
   "id": "efd31806",
   "metadata": {},
   "outputs": [],
   "source": []
  }
 ],
 "metadata": {
  "kernelspec": {
   "display_name": "Python 3 (ipykernel)",
   "language": "python",
   "name": "python3"
  },
  "language_info": {
   "codemirror_mode": {
    "name": "ipython",
    "version": 3
   },
   "file_extension": ".py",
   "mimetype": "text/x-python",
   "name": "python",
   "nbconvert_exporter": "python",
   "pygments_lexer": "ipython3",
   "version": "3.9.12"
  }
 },
 "nbformat": 4,
 "nbformat_minor": 5
}
