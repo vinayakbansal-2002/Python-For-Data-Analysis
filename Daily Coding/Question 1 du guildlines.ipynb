{
 "cells": [
  {
   "cell_type": "raw",
   "id": "966ad41f",
   "metadata": {},
   "source": [
    "\n",
    "Given below is a dictionary having two keys ‘Boys’ and ‘Girls’ and having two lists of heights of five Boys and\n",
    "Five Girls respectively as values associated with these keys\n",
    "Original dictionary of lists:\n",
    "{'Boys': [72, 68, 70, 69, 74], 'Girls': [63, 65, 69, 62, 61]}\n",
    "From the given dictionary of lists create the following list of dictionaries:\n",
    "[{'Boys': 72, 'Girls': 63}, {'Boys': 68, 'Girls': 65}, {'Boys': 70, 'Girls': 69}, {'Boys': 69, 'Girls': 62}, {‘Boys’:74,\n",
    "‘Girls’:61]\n"
   ]
  },
  {
   "cell_type": "code",
   "execution_count": 1,
   "id": "6b8400b0",
   "metadata": {},
   "outputs": [],
   "source": [
    "dic={'Boys': [72, 68, 70, 69, 74], 'Girls': [63, 65, 69, 62, 61]}"
   ]
  },
  {
   "cell_type": "code",
   "execution_count": 2,
   "id": "4e29915c",
   "metadata": {},
   "outputs": [
    {
     "data": {
      "text/plain": [
       "dict"
      ]
     },
     "execution_count": 2,
     "metadata": {},
     "output_type": "execute_result"
    }
   ],
   "source": [
    "type(dic)"
   ]
  },
  {
   "cell_type": "code",
   "execution_count": 3,
   "id": "69c286de",
   "metadata": {},
   "outputs": [
    {
     "data": {
      "text/plain": [
       "{'Boys': [72, 68, 70, 69, 74], 'Girls': [63, 65, 69, 62, 61]}"
      ]
     },
     "execution_count": 3,
     "metadata": {},
     "output_type": "execute_result"
    }
   ],
   "source": [
    "dic"
   ]
  },
  {
   "cell_type": "code",
   "execution_count": 4,
   "id": "b0f315d0",
   "metadata": {},
   "outputs": [],
   "source": [
    "l=[] #new list\n",
    "key=[]\n",
    "temp=[]"
   ]
  },
  {
   "cell_type": "code",
   "execution_count": 5,
   "id": "5ae53a86",
   "metadata": {},
   "outputs": [],
   "source": [
    "for i in dic:\n",
    "    key.append(i)\n",
    "    temp.append(dic[i])"
   ]
  },
  {
   "cell_type": "code",
   "execution_count": 6,
   "id": "d278a236",
   "metadata": {},
   "outputs": [
    {
     "data": {
      "text/plain": [
       "['Boys', 'Girls']"
      ]
     },
     "execution_count": 6,
     "metadata": {},
     "output_type": "execute_result"
    }
   ],
   "source": [
    "key"
   ]
  },
  {
   "cell_type": "code",
   "execution_count": 7,
   "id": "cec84448",
   "metadata": {},
   "outputs": [
    {
     "data": {
      "text/plain": [
       "[[72, 68, 70, 69, 74], [63, 65, 69, 62, 61]]"
      ]
     },
     "execution_count": 7,
     "metadata": {},
     "output_type": "execute_result"
    }
   ],
   "source": [
    "temp"
   ]
  },
  {
   "cell_type": "code",
   "execution_count": 8,
   "id": "64348aa1",
   "metadata": {},
   "outputs": [],
   "source": [
    "for i in range(len(temp[0])):\n",
    "    \n",
    "    dic2={}\n",
    "    k=0\n",
    "    for j in key:\n",
    "        dic2[j]=temp[k][i]\n",
    "        k=k+1\n",
    "        \n",
    "        \n",
    "    l.append(dic2)"
   ]
  },
  {
   "cell_type": "code",
   "execution_count": 9,
   "id": "0570d7ee",
   "metadata": {},
   "outputs": [
    {
     "data": {
      "text/plain": [
       "[{'Boys': 72, 'Girls': 63},\n",
       " {'Boys': 68, 'Girls': 65},\n",
       " {'Boys': 70, 'Girls': 69},\n",
       " {'Boys': 69, 'Girls': 62},\n",
       " {'Boys': 74, 'Girls': 61}]"
      ]
     },
     "execution_count": 9,
     "metadata": {},
     "output_type": "execute_result"
    }
   ],
   "source": [
    "l"
   ]
  }
 ],
 "metadata": {
  "kernelspec": {
   "display_name": "Python 3 (ipykernel)",
   "language": "python",
   "name": "python3"
  },
  "language_info": {
   "codemirror_mode": {
    "name": "ipython",
    "version": 3
   },
   "file_extension": ".py",
   "mimetype": "text/x-python",
   "name": "python",
   "nbconvert_exporter": "python",
   "pygments_lexer": "ipython3",
   "version": "3.9.12"
  }
 },
 "nbformat": 4,
 "nbformat_minor": 5
}
